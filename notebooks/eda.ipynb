{
 "cells": [
  {
   "cell_type": "code",
   "execution_count": null,
   "id": "be70909e",
   "metadata": {
    "vscode": {
     "languageId": "plaintext"
    }
   },
   "outputs": [],
   "source": [
    "# EDA.ipynb\n",
    "\n",
    "# Import libraries\n",
    "import pandas as pd\n",
    "import matplotlib.pyplot as plt\n",
    "import seaborn as sns\n",
    "from src.preprocessing import clean_text\n",
    "\n",
    "# Load dataset\n",
    "df = pd.read_csv(\"../data/tweets.csv\")\n",
    "df.head()\n",
    "\n",
    "# Check distribution of sentiment\n",
    "sns.countplot(x='sentiment', data=df)\n",
    "plt.title(\"Sentiment Distribution\")\n",
    "plt.show()\n",
    "\n",
    "# Add a column with cleaned tweets\n",
    "df['clean_tweet'] = df['tweet'].apply(clean_text)\n",
    "df.head()\n",
    "\n",
    "# Wordclouds for each sentiment (optional)\n",
    "from wordcloud import WordCloud\n",
    "\n",
    "for sentiment in ['positive', 'negative', 'neutral']:\n",
    "    text = \" \".join(df[df['sentiment']==sentiment]['clean_tweet'])\n",
    "    wordcloud = WordCloud(width=800, height=400, background_color='white').generate(text)\n",
    "    plt.figure(figsize=(10,5))\n",
    "    plt.imshow(wordcloud, interpolation='bilinear')\n",
    "    plt.axis('off')\n",
    "    plt.title(f\"Wordcloud for {sentiment} tweets\")\n",
    "    plt.show()\n",
    "\n",
    "# Tweet length analysis\n",
    "df['tweet_length'] = df['clean_tweet'].apply(lambda x: len(x.split()))\n",
    "sns.boxplot(x='sentiment', y='tweet_length', data=df)\n",
    "plt.title(\"Tweet Length by Sentiment\")\n",
    "plt.show()\n"
   ]
  }
 ],
 "metadata": {
  "language_info": {
   "name": "python"
  }
 },
 "nbformat": 4,
 "nbformat_minor": 5
}
